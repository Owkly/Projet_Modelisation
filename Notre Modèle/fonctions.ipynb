{
 "cells": [
  {
   "cell_type": "code",
   "execution_count": 15,
   "id": "4ac1910d",
   "metadata": {},
   "outputs": [
    {
     "name": "stdout",
     "output_type": "stream",
     "text": [
      "0.30303030303030304\n",
      "[0.83       0.8219697  0.81393939 0.80590909 0.79787879 0.78984848\n",
      " 0.78181818 0.77378788 0.76575758 0.75772727 0.74969697 0.74166667\n",
      " 0.73363636 0.72560606 0.71757576 0.70954545 0.70151515 0.69348485\n",
      " 0.68545455 0.67742424 0.66939394 0.66136364 0.65333333 0.64530303\n",
      " 0.63727273 0.62924242 0.62121212 0.61318182 0.60515152 0.59712121\n",
      " 0.58909091 0.58106061 0.5730303  0.565      0.5569697  0.54893939\n",
      " 0.54090909 0.53287879 0.52484848 0.51681818 0.50878788 0.50075758\n",
      " 0.49272727 0.48469697 0.47666667 0.46863636 0.46060606 0.45257576\n",
      " 0.44454545 0.43651515 0.42848485 0.42045455 0.41242424 0.40439394\n",
      " 0.39636364 0.38833333 0.38030303 0.37227273 0.36424242 0.35621212\n",
      " 0.34818182 0.34015152 0.33212121 0.32409091 0.31606061 0.3080303\n",
      " 0.3        0.3        0.3        0.3        0.3        0.3\n",
      " 0.3        0.3        0.3        0.3        0.3        0.3\n",
      " 0.3        0.3        0.3        0.3        0.3        0.3\n",
      " 0.3        0.3        0.3        0.3        0.3        0.3\n",
      " 0.3        0.3        0.3        0.3        0.3        0.3\n",
      " 0.3        0.3        0.3        0.3       ]\n"
     ]
    }
   ],
   "source": [
    "import numpy as np\n",
    "import matplotlib.pyplot as plt\n",
    "\n",
    "#equations préalables pour l'equation Q\n",
    "\n",
    "#Nécessaire pour calculer F(t)\n",
    "#test FEX(t)\n",
    "FEX_0 = 0.83\n",
    "FEX_10 = 0.30\n",
    "t = np.linspace(0, 15, 100)\n",
    "\n",
    "def FEX(t):\n",
    "    y = np.zeros(t.size)\n",
    "    for i in range(0,t.size):\n",
    "        if (t[i] <= 10):\n",
    "            y[i] = FEX_0 + 0.1 * (FEX_10 - FEX_0) * t[i]\n",
    "        else: # t > 10\n",
    "            y[i]=FEX_10\n",
    "    return y\n",
    "\n",
    "# Création d'un widget pour l'utilisateur modifier la valeur du paramètre\n",
    "a = 5\n",
    "\n",
    "# Création des données pour la courbe en utilisant la valeur de a\n",
    "t = np.linspace(0, 15, 100)\n",
    "y = a*FEX(t)\n",
    "print(y)\n"
   ]
  },
  {
   "cell_type": "code",
   "execution_count": 24,
   "id": "e60c0f5f",
   "metadata": {},
   "outputs": [
    {
     "name": "stdout",
     "output_type": "stream",
     "text": [
      "0.3127855722413415\n",
      "0.30995741367357277\n",
      "4.007142680304042\n",
      "4.007142680304042\n"
     ]
    }
   ],
   "source": [
    "#Les phi varient de 0 à 1 avec pour valeur par défaut 1\n",
    "phi_0 = 0.7\n",
    "phi_5= 0.6\n",
    "phi_10 = 0.5\n",
    "phi_15 = 0.3\n",
    "phi_max = 4 #A DETERMINER §§§!!!!\n",
    "def phi(t, phi_0, phi_5, phi_10, phi_15,phi_max):\n",
    "    if t < 5:\n",
    "        return phi_5 + (phi_0 - phi_5) * np.exp(-0.25 * t)\n",
    "    elif t < 10:\n",
    "        return phi_10 + (phi_5 - phi_10) * np.exp(-0.25 * t)\n",
    "    elif t < 15:\n",
    "        return phi_15 + (phi_10 - phi_15) * np.exp(-0.25 * t)\n",
    "    else:\n",
    "        return phi_max + (phi_max - phi_15) * np.exp(-0.25 * 25)\n",
    "#Pour calculer MAT on a besoin de phi12,11,23 et 32\n",
    "phi_11 = phi(11,phi_0, phi_5, phi_10, phi_15, phi_max)\n",
    "phi_12 = phi(12,phi_0, phi_5, phi_10, phi_15, phi_max)\n",
    "phi_23 = phi(23,phi_0, phi_5, phi_10, phi_15, phi_max)\n",
    "phi_32 = phi(32,phi_0, phi_5, phi_10, phi_15, phi_max)\n",
    "print(phi_11)\n",
    "print(phi_12)\n",
    "print(phi_23)\n",
    "print(phi_32)\n"
   ]
  },
  {
   "cell_type": "code",
   "execution_count": 45,
   "id": "0d32a654",
   "metadata": {},
   "outputs": [
    {
     "name": "stdout",
     "output_type": "stream",
     "text": [
      "[ 0.   7.5 15. ]\n",
      "[   742.09410723  35705.61867535 -23960.71278258]\n"
     ]
    }
   ],
   "source": [
    "#On veut ici recupérer MAT\n",
    "def equation(t):\n",
    "    transition_matrix = np.array([[phi_11, phi_12, 0],\n",
    "                                  [1-phi_11, 1-phi_12-phi_32, phi_23],\n",
    "                                  [0, phi_32, 1-phi_23]])\n",
    "\n",
    "    return np.dot(transition_matrix, np.array([MAT_prev,MUP_prev, MLO_prev])) + np.array([E_prev, 0, 0])\n",
    "\n",
    "MAT_0= 787 #indice 0 de la matrice\n",
    "MUP_0= 1600 #indice 1 de la matrice\n",
    "MLO_0= 10100 #indice 2 de la matrice\n",
    "def mat(t):\n",
    "    \n",
    "    \n",
    "    matrice0=np.array([MAT_0,MUP_0,MLO_0])\n",
    "    if (t <= 0):\n",
    "        return matrice0 #Si t=0 On renvoie les valeurs initiales\n",
    "    else : #Sinon on calcule les nouvelles valeurs pour t en fonction de t-1\n",
    "        matrice=np.zeros(matrice0.size)\n",
    "        MAT_minus = mat(t-1)[0]\n",
    "        MUP_minus = mat(t-1)[1]\n",
    "        MLO_minus = mat(t-1)[2]\n",
    "        matrice[0] = phi_11*MAT_minus+phi_12*MUP_minus #RAJOUTER E(t-1)\n",
    "        matrice[1] = (1-phi_11)*MAT_minus+(1-phi_12-phi_32)*MUP_minus+phi_23*MLO_minus\n",
    "        matrice[2] = phi_32*MUP_minus+(1-phi_23)*MLO_minus\n",
    "        return matrice\n",
    "      \n",
    "t = np.linspace(0, 15, 3)\n",
    "print(t)\n",
    "matrix1 = mat(1)\n",
    "print(matrix1)\n",
    "matrix2 = mat(2)\n"
   ]
  },
  {
   "cell_type": "code",
   "execution_count": 49,
   "id": "9e9de182",
   "metadata": {},
   "outputs": [
    {
     "name": "stdout",
     "output_type": "stream",
     "text": [
      "t :  [ 0  1  2  3  4  5  6  7  8  9 10 11 12 13 14]\n",
      "t=0 :  787\n",
      "t=1 :  742.0941072316522\n",
      "matrix =  [ 7.87000000e+02  7.42094107e+02  1.12993375e+04 -6.27789889e+04\n",
      "  4.69940013e+05 -3.35867451e+06  2.41577204e+07 -1.73603561e+08\n",
      "  1.24771362e+09 -8.96734217e+09  6.44486176e+10 -4.63194428e+11\n",
      "  3.32899442e+12 -2.39255981e+13  1.71954103e+14]\n"
     ]
    }
   ],
   "source": [
    "#MARCHE MAIS TRES LENT \n",
    "#On veut ici recupérer MAT\n",
    "def equation(t):\n",
    "    transition_matrix = np.array([[phi_11, phi_12, 0],\n",
    "                                  [1-phi_11, 1-phi_12-phi_32, phi_23],\n",
    "                                  [0, phi_32, 1-phi_23]])\n",
    "\n",
    "    return np.dot(transition_matrix, np.array([MAT_prev,MUP_prev, MLO_prev])) + np.array([E_prev, 0, 0])\n",
    "\n",
    "MAT_0= 787 #indice 0 de la matrice\n",
    "MUP_0= 1600 #indice 1 de la matrice\n",
    "MLO_0= 10100 #indice 2 de la matrice\n",
    "def mat(t):\n",
    "    \n",
    "    \n",
    "    matrice0=np.array([MAT_0,MUP_0,MLO_0])\n",
    "    if (t <= 0):\n",
    "        return matrice0 #Si t=0 On renvoie les valeurs initiales\n",
    "    else : #Sinon on calcule les nouvelles valeurs pour t en fonction de t-1\n",
    "        matrice=np.zeros(matrice0.size)\n",
    "        MAT_minus = mat(t-1)[0]\n",
    "        MUP_minus = mat(t-1)[1]\n",
    "        MLO_minus = mat(t-1)[2]\n",
    "        matrice[0] = phi_11*MAT_minus+phi_12*MUP_minus #RAJOUTER E(t-1)\n",
    "        matrice[1] = (1-phi_11)*MAT_minus+(1-phi_12-phi_32)*MUP_minus+phi_23*MLO_minus\n",
    "        matrice[2] = phi_32*MUP_minus+(1-phi_23)*MLO_minus\n",
    "        return matrice\n",
    "      \n",
    "t = np.arange(0, 15, 1)\n",
    "matrix = np.zeros(t.size)\n",
    "for i in range(t.size):\n",
    "    j=t[i]\n",
    "    matrix[i]=mat(j)[0]\n",
    "print(\"matrix = \",matrix)"
   ]
  },
  {
   "cell_type": "code",
   "execution_count": null,
   "id": "6d963a75",
   "metadata": {},
   "outputs": [],
   "source": []
  }
 ],
 "metadata": {
  "kernelspec": {
   "display_name": "Python 3.10.8 64-bit",
   "language": "python",
   "name": "python3"
  },
  "language_info": {
   "codemirror_mode": {
    "name": "ipython",
    "version": 3
   },
   "file_extension": ".py",
   "mimetype": "text/x-python",
   "name": "python",
   "nbconvert_exporter": "python",
   "pygments_lexer": "ipython3",
   "version": "3.10.8"
  },
  "vscode": {
   "interpreter": {
    "hash": "26de051ba29f2982a8de78e945f0abaf191376122a1563185a90213a26c5da77"
   }
  }
 },
 "nbformat": 4,
 "nbformat_minor": 5
}
